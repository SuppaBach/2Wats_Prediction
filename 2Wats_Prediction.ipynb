{
  "nbformat": 4,
  "nbformat_minor": 0,
  "metadata": {
    "colab": {
      "name": "2Wats_Prediction.ipynb",
      "provenance": [],
      "collapsed_sections": [],
      "toc_visible": true,
      "authorship_tag": "ABX9TyNRMpf4z0Bimp68MNJOV7Za",
      "include_colab_link": true
    },
    "kernelspec": {
      "name": "python3",
      "display_name": "Python 3"
    }
  },
  "cells": [
    {
      "cell_type": "markdown",
      "metadata": {
        "id": "view-in-github",
        "colab_type": "text"
      },
      "source": [
        "<a href=\"https://colab.research.google.com/github/SuppaBach/2Wats_Prediction/blob/master/2Wats_Prediction.ipynb\" target=\"_parent\"><img src=\"https://colab.research.google.com/assets/colab-badge.svg\" alt=\"Open In Colab\"/></a>"
      ]
    },
    {
      "cell_type": "markdown",
      "metadata": {
        "id": "nuE2tDZNu5Ez",
        "colab_type": "text"
      },
      "source": [
        "# Introduction"
      ]
    },
    {
      "cell_type": "markdown",
      "metadata": {
        "id": "fRH9uv0ApqAZ",
        "colab_type": "text"
      },
      "source": [
        "**Problem 3: The Tale of Two Wat** \n",
        "\n",
        "Chulalongkorn University's AI Academy 2020\n",
        "\n",
        "2nd round screening exam\n"
      ]
    },
    {
      "cell_type": "markdown",
      "metadata": {
        "id": "SSS8MT9mp8lX",
        "colab_type": "text"
      },
      "source": [
        "Candidate name : \n",
        "Suppawat Boonrach\n",
        "\n",
        "*   s.boonrach@outlook.com\n",
        "*   github.com/suppabach\n",
        "\n"
      ]
    },
    {
      "cell_type": "markdown",
      "metadata": {
        "id": "6g0bY4lEqgaG",
        "colab_type": "text"
      },
      "source": [
        "There are three parts in this program\n",
        "\n",
        "1.   Wat Po Training\n",
        "2.   Wat Prakaew Training\n",
        "3.   2Wats Prediction\n",
        "\n",
        "\n",
        "\n"
      ]
    },
    {
      "cell_type": "markdown",
      "metadata": {
        "id": "jAqiiKKIvGfe",
        "colab_type": "text"
      },
      "source": [
        "# Wat Po Training"
      ]
    },
    {
      "cell_type": "markdown",
      "metadata": {
        "id": "Xbv1jYfSoCrC",
        "colab_type": "text"
      },
      "source": [
        "Wat Po Training"
      ]
    },
    {
      "cell_type": "code",
      "metadata": {
        "id": "zRdE5ImGhCSU",
        "colab_type": "code",
        "outputId": "606c83eb-1242-4976-c748-cffc496df22b",
        "colab": {
          "base_uri": "https://localhost:8080/",
          "height": 516
        }
      },
      "source": [
        "import os\n",
        "import numpy as np\n",
        "from keras.models import Sequential\n",
        "from keras.layers import Activation, Dropout, Flatten, Dense\n",
        "from keras.preprocessing.image import ImageDataGenerator\n",
        "from keras.layers import Convolution2D, MaxPooling2D, ZeroPadding2D\n",
        "from keras import optimizers\n",
        "\n",
        "# dimensions of our images.\n",
        "img_width, img_height = 512, 512\n",
        "\n",
        "# Folder for store data\n",
        "train_data_dir = 'watpo_training'\n",
        "prediction_data_dir = 'watpo_prediction' \n",
        "\n",
        "# used to rescale the pixel values from [0, 255] to [0, 1] interval\n",
        "datagen = ImageDataGenerator(rescale=1./255)\n",
        "\n",
        "# automagically retrieve images and their classes for train and validation sets\n",
        "train_generator = datagen.flow_from_directory(\n",
        "        train_data_dir,\n",
        "        target_size=(img_width, img_height),\n",
        "        batch_size=4,\n",
        "        class_mode='binary')\n",
        "\n",
        "prediction_generator = datagen.flow_from_directory( \n",
        "        prediction_data_dir,\n",
        "        target_size=(img_width, img_height),\n",
        "        batch_size=4,\n",
        "        class_mode='binary')\n",
        "\n",
        "model = Sequential()\n",
        "model.add(Convolution2D(32, 3, 3, input_shape=(img_width, img_height,3)))\n",
        "model.add(Activation('relu'))\n",
        "model.add(MaxPooling2D(pool_size=(2, 2)))\n",
        "\n",
        "model.add(Convolution2D(32, 3, 3))\n",
        "model.add(Activation('relu'))\n",
        "model.add(MaxPooling2D(pool_size=(2, 2)))\n",
        "\n",
        "model.add(Convolution2D(64, 3, 3))\n",
        "model.add(Activation('relu'))\n",
        "model.add(MaxPooling2D(pool_size=(2, 2)))\n",
        "\n",
        "model.add(Flatten())\n",
        "model.add(Dense(64))\n",
        "model.add(Activation('relu'))\n",
        "model.add(Dropout(0.5))\n",
        "model.add(Dense(1))\n",
        "model.add(Activation('sigmoid'))\n",
        "\n",
        "\n",
        "model.compile(loss='binary_crossentropy',\n",
        "              optimizer='rmsprop',\n",
        "              metrics=['accuracy'])\n",
        "\n",
        "nb_epoch = 10 #จำนวน epoch \n",
        "nb_train_samples = 4 #จำนวน sample ที่นำมาเทรน\n",
        "nb_prediction_samples = 1 #จำนวน sample ที่นำมา validate\n",
        "\n",
        "model.fit_generator(\n",
        "        train_generator,\n",
        "        samples_per_epoch=nb_train_samples,\n",
        "        nb_epoch=nb_epoch,\n",
        "        prediction_data=prediction_generator,\n",
        "        nb_val_samples=nb_prediction_samples)\n",
        "\n",
        "open(\"basic_cnn_20_epochs.h5\", \"wb\")\n",
        "model.save_weights('basic_cnn_20_epochs.h5')"
      ],
      "execution_count": 11,
      "outputs": [
        {
          "output_type": "stream",
          "text": [
            "Found 0 images belonging to 0 classes.\n",
            "Found 0 images belonging to 0 classes.\n"
          ],
          "name": "stdout"
        },
        {
          "output_type": "stream",
          "text": [
            "/usr/local/lib/python3.6/dist-packages/ipykernel_launcher.py:33: UserWarning: Update your `Conv2D` call to the Keras 2 API: `Conv2D(32, (3, 3), input_shape=(512, 512,...)`\n",
            "/usr/local/lib/python3.6/dist-packages/ipykernel_launcher.py:37: UserWarning: Update your `Conv2D` call to the Keras 2 API: `Conv2D(32, (3, 3))`\n",
            "/usr/local/lib/python3.6/dist-packages/ipykernel_launcher.py:41: UserWarning: Update your `Conv2D` call to the Keras 2 API: `Conv2D(64, (3, 3))`\n",
            "/usr/local/lib/python3.6/dist-packages/ipykernel_launcher.py:66: UserWarning: The semantics of the Keras 2 argument `steps_per_epoch` is not the same as the Keras 1 argument `samples_per_epoch`. `steps_per_epoch` is the number of batches to draw from the generator at each epoch. Basically steps_per_epoch = samples_per_epoch/batch_size. Similarly `nb_val_samples`->`validation_steps` and `val_samples`->`steps` arguments have changed. Update your method calls accordingly.\n",
            "/usr/local/lib/python3.6/dist-packages/ipykernel_launcher.py:66: UserWarning: Update your `fit_generator` call to the Keras 2 API: `fit_generator(<keras.pre..., prediction_data=<keras.pre..., steps_per_epoch=1, epochs=10, validation_steps=1)`\n"
          ],
          "name": "stderr"
        },
        {
          "output_type": "error",
          "ename": "TypeError",
          "evalue": "ignored",
          "traceback": [
            "\u001b[0;31m---------------------------------------------------------------------------\u001b[0m",
            "\u001b[0;31mTypeError\u001b[0m                                 Traceback (most recent call last)",
            "\u001b[0;32m<ipython-input-11-bc43ca64072d>\u001b[0m in \u001b[0;36m<module>\u001b[0;34m()\u001b[0m\n\u001b[1;32m     64\u001b[0m         \u001b[0mnb_epoch\u001b[0m\u001b[0;34m=\u001b[0m\u001b[0mnb_epoch\u001b[0m\u001b[0;34m,\u001b[0m\u001b[0;34m\u001b[0m\u001b[0;34m\u001b[0m\u001b[0m\n\u001b[1;32m     65\u001b[0m         \u001b[0mprediction_data\u001b[0m\u001b[0;34m=\u001b[0m\u001b[0mprediction_generator\u001b[0m\u001b[0;34m,\u001b[0m\u001b[0;34m\u001b[0m\u001b[0;34m\u001b[0m\u001b[0m\n\u001b[0;32m---> 66\u001b[0;31m         nb_val_samples=nb_prediction_samples)\n\u001b[0m\u001b[1;32m     67\u001b[0m \u001b[0;34m\u001b[0m\u001b[0m\n\u001b[1;32m     68\u001b[0m \u001b[0mopen\u001b[0m\u001b[0;34m(\u001b[0m\u001b[0;34m\"basic_cnn_20_epochs.h5\"\u001b[0m\u001b[0;34m,\u001b[0m \u001b[0;34m\"wb\"\u001b[0m\u001b[0;34m)\u001b[0m\u001b[0;34m\u001b[0m\u001b[0;34m\u001b[0m\u001b[0m\n",
            "\u001b[0;32m/usr/local/lib/python3.6/dist-packages/keras/legacy/interfaces.py\u001b[0m in \u001b[0;36mwrapper\u001b[0;34m(*args, **kwargs)\u001b[0m\n\u001b[1;32m     89\u001b[0m                 warnings.warn('Update your `' + object_name + '` call to the ' +\n\u001b[1;32m     90\u001b[0m                               'Keras 2 API: ' + signature, stacklevel=2)\n\u001b[0;32m---> 91\u001b[0;31m             \u001b[0;32mreturn\u001b[0m \u001b[0mfunc\u001b[0m\u001b[0;34m(\u001b[0m\u001b[0;34m*\u001b[0m\u001b[0margs\u001b[0m\u001b[0;34m,\u001b[0m \u001b[0;34m**\u001b[0m\u001b[0mkwargs\u001b[0m\u001b[0;34m)\u001b[0m\u001b[0;34m\u001b[0m\u001b[0;34m\u001b[0m\u001b[0m\n\u001b[0m\u001b[1;32m     92\u001b[0m         \u001b[0mwrapper\u001b[0m\u001b[0;34m.\u001b[0m\u001b[0m_original_function\u001b[0m \u001b[0;34m=\u001b[0m \u001b[0mfunc\u001b[0m\u001b[0;34m\u001b[0m\u001b[0;34m\u001b[0m\u001b[0m\n\u001b[1;32m     93\u001b[0m         \u001b[0;32mreturn\u001b[0m \u001b[0mwrapper\u001b[0m\u001b[0;34m\u001b[0m\u001b[0;34m\u001b[0m\u001b[0m\n",
            "\u001b[0;31mTypeError\u001b[0m: fit_generator() got an unexpected keyword argument 'prediction_data'"
          ]
        }
      ]
    },
    {
      "cell_type": "markdown",
      "metadata": {
        "id": "WiymeXozvL5w",
        "colab_type": "text"
      },
      "source": [
        "# Wat Prakaew Training"
      ]
    },
    {
      "cell_type": "markdown",
      "metadata": {
        "id": "gfp5N2H1pHfC",
        "colab_type": "text"
      },
      "source": [
        "Wat Prakaew Training"
      ]
    },
    {
      "cell_type": "code",
      "metadata": {
        "id": "zvuEHCwgpOcs",
        "colab_type": "code",
        "colab": {}
      },
      "source": [
        "import os\n",
        "import numpy as np\n",
        "from keras.models import Sequential\n",
        "from keras.layers import Activation, Dropout, Flatten, Dense\n",
        "from keras.preprocessing.image import ImageDataGenerator\n",
        "from keras.layers import Convolution2D, MaxPooling2D, ZeroPadding2D\n",
        "from keras import optimizers\n",
        "\n",
        "# dimensions of our images.\n",
        "img_width, img_height = 512, 512\n",
        "\n",
        "# Folder for store data\n",
        "train_data_dir = 'watprakaew_training'\n",
        "prediction_data_dir = 'watprakaew_prediction' \n",
        "\n",
        "# used to rescale the pixel values from [0, 255] to [0, 1] interval\n",
        "datagen = ImageDataGenerator(rescale=1./255)\n",
        "\n",
        "# automagically retrieve images and their classes for train and validation sets\n",
        "train_generator = datagen.flow_from_directory(\n",
        "        train_data_dir,\n",
        "        target_size=(img_width, img_height),\n",
        "        batch_size=4,\n",
        "        class_mode='binary')\n",
        "\n",
        "prediction_generator = datagen.flow_from_directory( \n",
        "        prediction_data_dir,\n",
        "        target_size=(img_width, img_height),\n",
        "        batch_size=4,\n",
        "        class_mode='binary')\n",
        "\n",
        "model = Sequential()\n",
        "model.add(Convolution2D(32, 3, 3, input_shape=(img_width, img_height,3)))\n",
        "model.add(Activation('relu'))\n",
        "model.add(MaxPooling2D(pool_size=(2, 2)))\n",
        "\n",
        "model.add(Convolution2D(32, 3, 3))\n",
        "model.add(Activation('relu'))\n",
        "model.add(MaxPooling2D(pool_size=(2, 2)))\n",
        "\n",
        "model.add(Convolution2D(64, 3, 3))\n",
        "model.add(Activation('relu'))\n",
        "model.add(MaxPooling2D(pool_size=(2, 2)))\n",
        "\n",
        "model.add(Flatten())\n",
        "model.add(Dense(64))\n",
        "model.add(Activation('relu'))\n",
        "model.add(Dropout(0.5))\n",
        "model.add(Dense(1))\n",
        "model.add(Activation('sigmoid'))\n",
        "\n",
        "\n",
        "model.compile(loss='binary_crossentropy',\n",
        "              optimizer='rmsprop',\n",
        "              metrics=['accuracy'])\n",
        "\n",
        "nb_epoch = 10 #จำนวน epoch \n",
        "nb_train_samples = 4 #จำนวน sample ที่นำมาเทรน\n",
        "nb_prediction_samples = 1 #จำนวน sample ที่นำมา validate\n",
        "\n",
        "model.fit_generator(\n",
        "        train_generator,\n",
        "        samples_per_epoch=nb_train_samples,\n",
        "        nb_epoch=nb_epoch,\n",
        "        prediction_data=prediction_generator,\n",
        "        nb_val_samples=nb_prediction_samples)\n",
        "\n",
        "open(\"basic_cnn_20_epochs.h5\", \"wb\")\n",
        "model.save_weights('basic_cnn_20_epochs.h5')"
      ],
      "execution_count": 0,
      "outputs": []
    },
    {
      "cell_type": "markdown",
      "metadata": {
        "id": "49bwsg2OvS3R",
        "colab_type": "text"
      },
      "source": [
        "# Classification"
      ]
    },
    {
      "cell_type": "markdown",
      "metadata": {
        "id": "r1MxwZwGpggD",
        "colab_type": "text"
      },
      "source": [
        "Classification"
      ]
    },
    {
      "cell_type": "code",
      "metadata": {
        "id": "ZUVotA7-q2CZ",
        "colab_type": "code",
        "colab": {}
      },
      "source": [
        "import os\n",
        "import numpy as np\n",
        "from keras.models import Sequential\n",
        "from keras.layers import Activation, Dropout, Flatten, Dense\n",
        "from keras.preprocessing.image import ImageDataGenerator, load_img, img_to_array\n",
        "from keras.layers import Convolution2D, MaxPooling2D, ZeroPadding2D\n",
        "from keras import optimizers\n",
        "import easygui\n",
        "\n",
        "img_width, img_height = 512, 512 #ขนาดภาพเหมือนเดิมครับ\n",
        "\n",
        "model = Sequential()\n",
        "model.add(Convolution2D(32, 3, 3, input_shape=(img_width, img_height,3)))\n",
        "model.add(Activation('relu'))\n",
        "model.add(MaxPooling2D(pool_size=(2, 2)))\n",
        "\n",
        "model.add(Convolution2D(32, 3, 3))\n",
        "model.add(Activation('relu'))\n",
        "model.add(MaxPooling2D(pool_size=(2, 2)))\n",
        "\n",
        "model.add(Convolution2D(64, 3, 3))\n",
        "model.add(Activation('relu'))\n",
        "model.add(MaxPooling2D(pool_size=(2, 2)))\n",
        "\n",
        "model.add(Flatten())\n",
        "model.add(Dense(64))\n",
        "model.add(Activation('relu'))\n",
        "model.add(Dropout(0.5))\n",
        "model.add(Dense(1))\n",
        "model.add(Activation('sigmoid'))\n",
        "\n",
        "model.compile(loss='binary_crossentropy',\n",
        "              optimizer='rmsprop',\n",
        "              metrics=['accuracy'])\n",
        "\n",
        "model.load_weights('basic_cnn_20_epochs.h5') #โหลด weight มาใช้ครับ\n",
        "\n",
        "while True:\n",
        "    msg =\"click predict to choose pic.\"\n",
        "    title = \"2Wats Prediction\"\n",
        "\n",
        "    choices = [\"Predict\", \"Quit\"]\n",
        "    choice = easygui.choicebox(msg, title, choices)\n",
        "    if choice == \"Predict\":\n",
        "        filename1 = easygui.fileopenbox()\n",
        "\n",
        "        imgg = load_img(filename1, target_size=(img_width,img_height))\n",
        "        predictg = img_to_array(imgg)\n",
        "        predictiong = model.predict_classes(predictg.reshape((1,img_width, img_height,3)),batch_size=16, verbose=0)\n",
        "        if predictiong[0][0] == 1: easygui.msgbox(\"Wat Po\")\n",
        "        else : easygui.msgbox(\"Wat Prakaew\")\n",
        "    else:\n",
        "        os._exit()"
      ],
      "execution_count": 0,
      "outputs": []
    }
  ]
}